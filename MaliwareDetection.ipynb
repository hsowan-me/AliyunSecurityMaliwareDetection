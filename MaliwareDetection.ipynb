{
 "cells": [
  {
   "cell_type": "markdown",
   "metadata": {},
   "source": [
    "# [阿里云安全恶意程序检测](https://tianchi.aliyun.com/competition/entrance/231694/introduction?spm=5176.12281973.1005.5.3dd52448mBco6p)\n",
    "\n",
    "\n",
    "## 赛题背景\n",
    "恶意软件是一种被设计用来对目标计算机造成破坏或者占用目标计算机资源的软件，传统的恶意软件包括蠕虫、木马等，这些恶意软件严重侵犯用户合法权益，甚至将为用户及他人带来巨大的经济或其他形式的利益损失。近年来随着虚拟货币进入大众视野，挖矿类的恶意程序也开始大量涌现，黑客通过入侵恶意挖矿程序获取巨额收益。当前恶意软件的检测技术主要有特征码检测、行为检测和启发式检测等，配合使用机器学习可以在一定程度上提高泛化能力，提升恶意样本的识别率。\n",
    "\n",
    "## 赛题说明\n",
    "本题目提供的数据来自文件（windows 可执行程序）经过沙箱程序模拟运行后的API指令序列，全为windows二进制可执行程序，经过脱敏处理。\n",
    "\n",
    "本题目提供的样本数据均来自于从互联网。其中恶意文件的类型有感染型病毒、木马程序、挖矿程序、DDOS木马、勒索病毒等，数据总计6亿条。\n",
    " \n",
    "## 数据说明\n",
    "\n",
    "#### 1）训练数据（train.zip）：调用记录近9000万次，文件1万多个（以文件编号汇总），字段描述如下：\n",
    "![image.png](./columns_desc.jpg)\n",
    "注1：一个文件调用的api数量有可能很多，对于一个tid中调用超过5000个api的文件，我们进行了截断，按照顺序保留了每个tid前5000个api的记录。  \n",
    "注2：不同线程tid之间没有顺序关系，同一个tid里的index由小到大代表调用的先后顺序关系。  \n",
    "注3：index是单个文件在沙箱执行时的全局顺序，由于沙箱执行时间有精度限制，所以会出现一个index上出现同线程或者不同线程都在执行多次api的情况，可以保证同tid内部的顺序，但不保证连续。\n",
    " \n",
    "\n",
    "#### 2）测试数据（test.zip）：调用记录近8000万次，文件1万多个。\n",
    "说明：格式除了没有label字段，其他数据规格与训练数据一致。\n",
    " \n",
    "评测指标\n",
    "1.选手的结果文件包含9个字段：file_id(bigint)、和八个分类的预测概率prob0, prob1, prob2, prob3, prob4, prob5 ,prob6,prob7 (类型double，范围在[0,1]之间，精度保留小数点后5位，prob[removed]=1.0我们会替换为1.0-1e-6)。选手必须保证每一行的|prob0+prob1+prob2+prob3+prob4+prob5+prob6+prob7-1.0|<1e-6，且将列名按如下顺序写入提交结果文件的第一行，作为表头：file_id,prob0,prob1,prob2,prob3,prob4,prob5,prob6,prob7。\n",
    "\n",
    "2.分数采用logloss计算公式如下：\n",
    "![image.png](./logloss_formula.jpg)\n",
    "M代表分类数，N代表测试集样本数，yij代表第i个样本是否为类别j(`是~1，否~0`)，Pij代表选手提交的第i个样本被预测为类别j的概率(prob)，最终公布的logloss保留小数点后6位。"
   ]
  },
  {
   "cell_type": "markdown",
   "metadata": {},
   "source": [
    "### Data Analysis"
   ]
  },
  {
   "cell_type": "code",
   "execution_count": 5,
   "metadata": {},
   "outputs": [
    {
     "name": "stdout",
     "output_type": "stream",
     "text": [
      "fight.ipynb         security_test.csv   security_train.csv\r\n",
      "security_submit.csv security_test.zip   security_train.zip\r\n"
     ]
    }
   ],
   "source": [
    "!ls"
   ]
  },
  {
   "cell_type": "code",
   "execution_count": 1,
   "metadata": {},
   "outputs": [],
   "source": [
    "base_path = '/Users/mac/Documents/阿里大数据实训/天池/阿里云安全恶意程序检测/'"
   ]
  },
  {
   "cell_type": "code",
   "execution_count": 2,
   "metadata": {},
   "outputs": [],
   "source": [
    "import pandas as pd\n",
    "import numpy as np\n",
    "import matplotlib.pyplot as plt\n",
    "\n",
    "plt.rcParams['font.sans-serif']=['SimHei']\n",
    "plt.rcParams['axes.unicode_minus']=False\n",
    "\n",
    "%matplotlib inline\n",
    "%config InlineBackend.figure_format = 'retina'"
   ]
  },
  {
   "cell_type": "code",
   "execution_count": 3,
   "metadata": {},
   "outputs": [
    {
     "data": {
      "text/html": [
       "<div>\n",
       "<style scoped>\n",
       "    .dataframe tbody tr th:only-of-type {\n",
       "        vertical-align: middle;\n",
       "    }\n",
       "\n",
       "    .dataframe tbody tr th {\n",
       "        vertical-align: top;\n",
       "    }\n",
       "\n",
       "    .dataframe thead th {\n",
       "        text-align: right;\n",
       "    }\n",
       "</style>\n",
       "<table border=\"1\" class=\"dataframe\">\n",
       "  <thead>\n",
       "    <tr style=\"text-align: right;\">\n",
       "      <th></th>\n",
       "      <th>file_id</th>\n",
       "      <th>label</th>\n",
       "      <th>api</th>\n",
       "      <th>tid</th>\n",
       "      <th>index</th>\n",
       "    </tr>\n",
       "  </thead>\n",
       "  <tbody>\n",
       "    <tr>\n",
       "      <td>0</td>\n",
       "      <td>1</td>\n",
       "      <td>5</td>\n",
       "      <td>LdrLoadDll</td>\n",
       "      <td>2488</td>\n",
       "      <td>0</td>\n",
       "    </tr>\n",
       "    <tr>\n",
       "      <td>1</td>\n",
       "      <td>1</td>\n",
       "      <td>5</td>\n",
       "      <td>LdrGetProcedureAddress</td>\n",
       "      <td>2488</td>\n",
       "      <td>1</td>\n",
       "    </tr>\n",
       "    <tr>\n",
       "      <td>2</td>\n",
       "      <td>1</td>\n",
       "      <td>5</td>\n",
       "      <td>LdrGetProcedureAddress</td>\n",
       "      <td>2488</td>\n",
       "      <td>2</td>\n",
       "    </tr>\n",
       "    <tr>\n",
       "      <td>3</td>\n",
       "      <td>1</td>\n",
       "      <td>5</td>\n",
       "      <td>LdrGetProcedureAddress</td>\n",
       "      <td>2488</td>\n",
       "      <td>3</td>\n",
       "    </tr>\n",
       "    <tr>\n",
       "      <td>4</td>\n",
       "      <td>1</td>\n",
       "      <td>5</td>\n",
       "      <td>LdrGetProcedureAddress</td>\n",
       "      <td>2488</td>\n",
       "      <td>4</td>\n",
       "    </tr>\n",
       "    <tr>\n",
       "      <td>...</td>\n",
       "      <td>...</td>\n",
       "      <td>...</td>\n",
       "      <td>...</td>\n",
       "      <td>...</td>\n",
       "      <td>...</td>\n",
       "    </tr>\n",
       "    <tr>\n",
       "      <td>89806688</td>\n",
       "      <td>13887</td>\n",
       "      <td>2</td>\n",
       "      <td>NtClose</td>\n",
       "      <td>2336</td>\n",
       "      <td>618</td>\n",
       "    </tr>\n",
       "    <tr>\n",
       "      <td>89806689</td>\n",
       "      <td>13887</td>\n",
       "      <td>2</td>\n",
       "      <td>NtClose</td>\n",
       "      <td>2336</td>\n",
       "      <td>619</td>\n",
       "    </tr>\n",
       "    <tr>\n",
       "      <td>89806690</td>\n",
       "      <td>13887</td>\n",
       "      <td>2</td>\n",
       "      <td>NtClose</td>\n",
       "      <td>2336</td>\n",
       "      <td>620</td>\n",
       "    </tr>\n",
       "    <tr>\n",
       "      <td>89806691</td>\n",
       "      <td>13887</td>\n",
       "      <td>2</td>\n",
       "      <td>NtClose</td>\n",
       "      <td>2336</td>\n",
       "      <td>621</td>\n",
       "    </tr>\n",
       "    <tr>\n",
       "      <td>89806692</td>\n",
       "      <td>13887</td>\n",
       "      <td>2</td>\n",
       "      <td>NtTerminateProcess</td>\n",
       "      <td>2336</td>\n",
       "      <td>622</td>\n",
       "    </tr>\n",
       "  </tbody>\n",
       "</table>\n",
       "<p>89806693 rows × 5 columns</p>\n",
       "</div>"
      ],
      "text/plain": [
       "          file_id  label                     api   tid  index\n",
       "0               1      5              LdrLoadDll  2488      0\n",
       "1               1      5  LdrGetProcedureAddress  2488      1\n",
       "2               1      5  LdrGetProcedureAddress  2488      2\n",
       "3               1      5  LdrGetProcedureAddress  2488      3\n",
       "4               1      5  LdrGetProcedureAddress  2488      4\n",
       "...           ...    ...                     ...   ...    ...\n",
       "89806688    13887      2                 NtClose  2336    618\n",
       "89806689    13887      2                 NtClose  2336    619\n",
       "89806690    13887      2                 NtClose  2336    620\n",
       "89806691    13887      2                 NtClose  2336    621\n",
       "89806692    13887      2      NtTerminateProcess  2336    622\n",
       "\n",
       "[89806693 rows x 5 columns]"
      ]
     },
     "execution_count": 3,
     "metadata": {},
     "output_type": "execute_result"
    }
   ],
   "source": [
    "train_data = pd.read_csv(base_path + 'security_train.csv')\n",
    "train_data"
   ]
  },
  {
   "cell_type": "code",
   "execution_count": 4,
   "metadata": {},
   "outputs": [
    {
     "name": "stdout",
     "output_type": "stream",
     "text": [
      "<class 'pandas.core.frame.DataFrame'>\n",
      "RangeIndex: 89806693 entries, 0 to 89806692\n",
      "Data columns (total 5 columns):\n",
      "file_id    int64\n",
      "label      int64\n",
      "api        object\n",
      "tid        int64\n",
      "index      int64\n",
      "dtypes: int64(4), object(1)\n",
      "memory usage: 3.3+ GB\n"
     ]
    }
   ],
   "source": [
    "train_data.info()"
   ]
  },
  {
   "cell_type": "code",
   "execution_count": 27,
   "metadata": {},
   "outputs": [
    {
     "data": {
      "text/plain": [
       "['正常', '勒索病毒', '挖矿程序', 'DDoS木马', '蠕虫病毒', '感染型病毒', '后门程序', '木马程序']"
      ]
     },
     "execution_count": 27,
     "metadata": {},
     "output_type": "execute_result"
    }
   ],
   "source": [
    "features = ['正常', '勒索病毒', '挖矿程序', 'DDoS木马', '蠕虫病毒', '感染型病毒', '后门程序', '木马程序']\n",
    "features"
   ]
  },
  {
   "cell_type": "code",
   "execution_count": 30,
   "metadata": {},
   "outputs": [
    {
     "name": "stdout",
     "output_type": "stream",
     "text": [
      "        file_id\n",
      "label          \n",
      "0      16375107\n",
      "1       2254561\n",
      "2       9693969\n",
      "3       8117585\n",
      "4        663815\n",
      "5      33033543\n",
      "6       4586578\n",
      "7      15081535\n"
     ]
    },
    {
     "data": {
      "text/plain": [
       "[16375107, 2254561, 9693969, 8117585, 663815, 33033543, 4586578, 15081535]"
      ]
     },
     "execution_count": 30,
     "metadata": {},
     "output_type": "execute_result"
    }
   ],
   "source": [
    "type(train_data[['label', 'file_id']].groupby(['label']).count())\n",
    "tmp_df = train_data[['label', 'file_id']].groupby(['label']).count()\n",
    "print(tmp_df)\n",
    "counts = tmp_df['file_id'].values.tolist()\n",
    "counts"
   ]
  },
  {
   "cell_type": "code",
   "execution_count": 55,
   "metadata": {},
   "outputs": [],
   "source": [
    "tmp_s = train_data.groupby(['file_id', 'label'])['label'].unique()"
   ]
  },
  {
   "cell_type": "code",
   "execution_count": 79,
   "metadata": {},
   "outputs": [
    {
     "data": {
      "text/plain": [
       "[0]    4978\n",
       "[5]    4289\n",
       "[7]    1487\n",
       "[2]    1196\n",
       "[3]     820\n",
       "[6]     515\n",
       "[1]     502\n",
       "[4]     100\n",
       "Name: label, dtype: int64"
      ]
     },
     "execution_count": 79,
     "metadata": {},
     "output_type": "execute_result"
    }
   ],
   "source": [
    "tmp_s.value_counts()"
   ]
  },
  {
   "cell_type": "code",
   "execution_count": 29,
   "metadata": {},
   "outputs": [
    {
     "data": {
      "text/plain": [
       "Text(0.5, 0.98, 'The Distribution Diagram of Different Malicious Programs')"
      ]
     },
     "execution_count": 29,
     "metadata": {},
     "output_type": "execute_result"
    },
    {
     "data": {
      "image/png": "[encoded data removed]",
      "text/plain": [
       "<Figure size 720x360 with 1 Axes>"
      ]
     },
     "metadata": {
      "image/png": {
       "height": 350,
       "width": 606
      },
      "needs_background": "light"
     },
     "output_type": "display_data"
    }
   ],
   "source": [
    "fig = plt.figure(figsize=(10, 5))\n",
    "\n",
    "plt.bar(features, counts)\n",
    "plt.xlabel('Type')\n",
    "plt.ylabel('Count')\n",
    "plt.suptitle('The Distribution Diagram of Different Malicious Programs')\n"
   ]
  },
  {
   "cell_type": "markdown",
   "metadata": {},
   "source": [
    "### Feature Engineering\n",
    "\n",
    "> Approach_1\n",
    "\n",
    "* api\n",
    "* tid\n",
    "* index\n",
    "\n",
    "> Approach_2\n",
    "\n",
    "Feature Cross\n",
    "\n",
    "* "
   ]
  },
  {
   "cell_type": "code",
   "execution_count": null,
   "metadata": {},
   "outputs": [],
   "source": []
  }
 ],
 "metadata": {
  "kernelspec": {
   "display_name": "Python 3",
   "language": "python",
   "name": "python3"
  },
  "language_info": {
   "codemirror_mode": {
    "name": "ipython",
    "version": 3
   },
   "file_extension": ".py",
   "mimetype": "text/x-python",
   "name": "python",
   "nbconvert_exporter": "python",
   "pygments_lexer": "ipython3",
   "version": "3.7.3"
  }
 },
 "nbformat": 4,
 "nbformat_minor": 2
}
